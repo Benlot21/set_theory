{
 "cells": [
  {
   "cell_type": "markdown",
   "id": "4b4420c2-afd2-4588-9547-8d6d6bff7bd6",
   "metadata": {},
   "source": [
    "ADRIAN B. MANALILI    BSIS-1       \n"
   ]
  },
  {
   "cell_type": "markdown",
   "id": "35c58945-d51b-419e-b7d8-94415cf7123f",
   "metadata": {},
   "source": [
    "1. PROVING INDENTITIES \n"
   ]
  },
  {
   "cell_type": "markdown",
   "id": "4e65b545-43db-4001-a68e-bfd53bb43494",
   "metadata": {},
   "source": [
    "1. A\\B = $A \\cap B^c$"
   ]
  },
  {
   "cell_type": "markdown",
   "id": "9b5a110e-346b-4ab2-abc2-7048c4e00dfd",
   "metadata": {},
   "source": [
    "left side"
   ]
  },
  {
   "cell_type": "markdown",
   "id": "63b02b5f-4ff4-4d9f-b61a-edc309c5041a",
   "metadata": {},
   "source": [
    "let x $ \\in$ A\\B"
   ]
  },
  {
   "cell_type": "markdown",
   "id": "d8892c86-c454-4331-913d-bda80b861478",
   "metadata": {},
   "source": [
    "x $\\in $ A and x $\\notin $ B"
   ]
  },
  {
   "cell_type": "markdown",
   "id": "4d7d0545-340c-438b-84da-bcfdcce0e2ce",
   "metadata": {},
   "source": [
    "x $\\in $ A  and x $\\in $ $ B^c$ "
   ]
  },
  {
   "cell_type": "markdown",
   "id": "6226765c-ca0f-46a4-963b-bd262577e86a",
   "metadata": {},
   "source": [
    "x $\\in$ A $\\cap $ $B^c$"
   ]
  },
  {
   "cell_type": "markdown",
   "id": "9439a5e4-11d3-484f-a066-7b8d79a90e92",
   "metadata": {},
   "source": [
    "answer: A\\B $\\subseteq $ A $ \\cap$ $B^c$"
   ]
  },
  {
   "cell_type": "markdown",
   "id": "17368706-116f-4589-9ef8-72fe932d53fe",
   "metadata": {},
   "source": [
    "right side "
   ]
  },
  {
   "cell_type": "markdown",
   "id": "5792bfed-f1f6-4290-b334-d424345e07c7",
   "metadata": {},
   "source": [
    "y $ \\in $ A $\\cap$ $B^c$"
   ]
  },
  {
   "cell_type": "markdown",
   "id": "4fc5550f-0904-4802-a2b6-fb367b327249",
   "metadata": {},
   "source": [
    "y $\\notin$ A and y $\\in$ $B^c$"
   ]
  },
  {
   "cell_type": "markdown",
   "id": "62fcb173-fda8-43f0-a84b-f6c296210df3",
   "metadata": {},
   "source": [
    "y $\\in$ A\\B"
   ]
  },
  {
   "cell_type": "markdown",
   "id": "6b779565-1aa6-4d01-910f-a05ec8a21d93",
   "metadata": {},
   "source": [
    "answer: A $\\cap$ $B^c$ $\\subseteq$ A\\B"
   ]
  },
  {
   "attachments": {},
   "cell_type": "markdown",
   "id": "048818c4-cf6e-4634-b562-5fe205097af6",
   "metadata": {},
   "source": [
    "\n",
    "\n",
    "2. $ B=(B \\cap A) \\cup (B \\cap A^c) $"
   ]
  },
  {
   "cell_type": "markdown",
   "id": "7f001f95-25c8-4643-8d58-858ba861d771",
   "metadata": {},
   "source": [
    "Let x $\\in$ (B $\\cap$ A) $\\cup$ (B $\\cap$ $A^c$)"
   ]
  },
  {
   "cell_type": "markdown",
   "id": "a5d8281c-db0c-40cc-81b3-0ef576c2c587",
   "metadata": {},
   "source": [
    "x $\\in$ (B $\\cap$ A) or x (B $\\cap$ $A^c$)"
   ]
  },
  {
   "cell_type": "markdown",
   "id": "a8cb4be3-3920-4b1c-8ea7-111f40f0f36d",
   "metadata": {},
   "source": [
    "x $\\in$ B and x A or x $\\in$ B and x $\\in$ $A^c$ "
   ]
  },
  {
   "cell_type": "markdown",
   "id": "4b4e157b-4ac0-415f-bad8-d7a067a770c8",
   "metadata": {},
   "source": [
    "x $\\in$ B or x $\\in$ B and x $\\in$ $A^c$ or x$\\in$ A"
   ]
  },
  {
   "cell_type": "markdown",
   "id": "7daabc59-b888-4e5e-b7e2-3dee14eb6239",
   "metadata": {},
   "source": [
    "x $\\in$ (B $\\cup$ B) and x $\\in$ ($A^c$ $\\cup$ A)"
   ]
  },
  {
   "cell_type": "markdown",
   "id": "d2ae8d7a-46cb-4b57-9a58-6c5acdfd12c3",
   "metadata": {},
   "source": [
    "x $\\in$ B and x $\\in$ $\\cup$ "
   ]
  },
  {
   "cell_type": "markdown",
   "id": "09b3443c-0ed3-4694-bc95-ea40c380fc93",
   "metadata": {},
   "source": [
    "x $\\in$ (B $\\cap$ $\\cup$)"
   ]
  },
  {
   "cell_type": "markdown",
   "id": "b0afa8ee-8979-48a2-8578-18d60fc0276f",
   "metadata": {},
   "source": [
    "x $\\in$ B"
   ]
  },
  {
   "cell_type": "markdown",
   "id": "8dda829a-1337-49a2-be09-de1463b88688",
   "metadata": {},
   "source": [
    "answer: B = (B $\\cap$ A) $\\cup$ (B $\\cap$ $A^c$"
   ]
  },
  {
   "cell_type": "markdown",
   "id": "e49c31f7-0bb9-438d-a783-695e0c33d3d5",
   "metadata": {},
   "source": [
    "3. B\\A = B$\\cap$ $A^c$"
   ]
  },
  {
   "cell_type": "markdown",
   "id": "2b8dd933-ac44-457c-9e36-e050731031c0",
   "metadata": {},
   "source": [
    "left side "
   ]
  },
  {
   "cell_type": "markdown",
   "id": "7fe50ba0-c32c-433f-9e73-a4222f8e119f",
   "metadata": {},
   "source": [
    "let x $\\in$ B\\A"
   ]
  },
  {
   "cell_type": "markdown",
   "id": "e75e6f09-12f7-4543-ab01-bc51c195ecfd",
   "metadata": {},
   "source": [
    "x $\\in$ B and x $\\notin$ A"
   ]
  },
  {
   "cell_type": "markdown",
   "id": "1b362214-a909-4791-9b54-fcfc469eb4fd",
   "metadata": {},
   "source": [
    "x $\\in$ B and x $\\in$ $A^c$ "
   ]
  },
  {
   "cell_type": "markdown",
   "id": "e6fbba43-fe3d-4a49-972c-85ea8f789b85",
   "metadata": {},
   "source": [
    "x $\\in$ (B $\\cap$ $A^c$)"
   ]
  },
  {
   "cell_type": "markdown",
   "id": "ac199fd8-0f5f-4d6c-a1e9-ea6eb9d1c25e",
   "metadata": {},
   "source": [
    "answer: B\\A $\\subseteq$ (B $\\cap$ $A^c$)"
   ]
  },
  {
   "cell_type": "markdown",
   "id": "0a6769fc-2ecc-4c5b-b3c3-b2fa2160f04b",
   "metadata": {},
   "source": [
    "right side "
   ]
  },
  {
   "cell_type": "markdown",
   "id": "f123e6b9-9e20-4dd2-a7c9-adea264b785f",
   "metadata": {},
   "source": [
    "y $\\in$ B and x $\\in$ $A^c$"
   ]
  },
  {
   "cell_type": "markdown",
   "id": "c7fb5ea8-b1ef-436f-a1b6-9d774251f71f",
   "metadata": {},
   "source": [
    "y $\\in$ B and x $\\notin$ A"
   ]
  },
  {
   "cell_type": "markdown",
   "id": "0e0e62ca-5636-4d20-a681-3fb7f9f3f3f4",
   "metadata": {},
   "source": [
    "y $\\in$ B $\\notin$ A"
   ]
  },
  {
   "cell_type": "markdown",
   "id": "74fd0c1e-1c15-440d-90cc-9a0bf36f4bd6",
   "metadata": {},
   "source": [
    "y $\\in$ B\\A"
   ]
  },
  {
   "cell_type": "markdown",
   "id": "b82d25f9-be62-40f4-ac72-3203342bb4a1",
   "metadata": {},
   "source": [
    "answer: (B $\\cap$ $A^c$) $\\subseteq$ B\\A"
   ]
  },
  {
   "cell_type": "markdown",
   "id": "cf70d310-c0dc-42fe-8e3a-dd901be387d5",
   "metadata": {},
   "source": [
    "4. A $\\cup$ B = A $\\cup$ (B $\\cap$ $A^c$)"
   ]
  },
  {
   "cell_type": "markdown",
   "id": "38542089-484b-4e18-bcbb-1ac28c1bc8ee",
   "metadata": {},
   "source": [
    "let x $\\in$ A $\\cup$ B "
   ]
  },
  {
   "cell_type": "markdown",
   "id": "a92ec1ca-d464-429b-9ab8-75df958690f4",
   "metadata": {},
   "source": [
    "x $\\in$ A and $A^c$ or x $\\in$ B and B"
   ]
  },
  {
   "cell_type": "markdown",
   "id": "c178fb7c-1356-4ae1-8965-2f9976fd77c3",
   "metadata": {},
   "source": [
    "x $\\in$ A $\\cup$ "
   ]
  },
  {
   "cell_type": "markdown",
   "id": "af09c875-7f35-49e1-a790-6961905eb106",
   "metadata": {},
   "source": [
    "answer: A $\\cup$ B $\\subseteq$ A $\\cup$ (B $\\cap$ $A^c$)"
   ]
  },
  {
   "cell_type": "markdown",
   "id": "b0bcfbfc-9a40-48ac-9160-1aad7f4721e3",
   "metadata": {},
   "source": [
    "5. NO ANSWER"
   ]
  },
  {
   "cell_type": "markdown",
   "id": "da1b6ec4-33f7-4119-85f8-54af1fcead3a",
   "metadata": {},
   "source": [
    "6. |A $\\cup$ B| = |A| + |B| - |A $\\cap$ B|"
   ]
  },
  {
   "cell_type": "markdown",
   "id": "d90a70ce-5f7c-4579-8f88-a7ffc2153d66",
   "metadata": {},
   "source": [
    "let x $\\in$ |A and B| = |A| + |B| - |A $\\cap$ B|"
   ]
  },
  {
   "cell_type": "markdown",
   "id": "7f3116b8-fc0e-4f1b-aa2e-71056366a524",
   "metadata": {},
   "source": [
    "A = {1,2,3}"
   ]
  },
  {
   "cell_type": "markdown",
   "id": "25327884-137e-4556-adab-4e1a8f7588a0",
   "metadata": {},
   "source": [
    "B = {3,4,5}"
   ]
  },
  {
   "cell_type": "markdown",
   "id": "151b7910-44e0-437f-ab27-e2c5c8fb9b0a",
   "metadata": {},
   "source": [
    "A + B = 4+6+8 =18"
   ]
  },
  {
   "cell_type": "markdown",
   "id": "4318753d-0893-41cd-95a1-a9048b83a80c",
   "metadata": {},
   "source": [
    "A $\\cap$ B = 3 "
   ]
  },
  {
   "cell_type": "markdown",
   "id": "7d3d9ffa-18d7-49a9-bf31-48dc0d352442",
   "metadata": {},
   "source": [
    "18 - 3 = 15"
   ]
  },
  {
   "cell_type": "markdown",
   "id": "c7c5b447-6f5e-40fb-b4ad-ce61c664894a",
   "metadata": {},
   "source": [
    "2. SETS AND SUBSETS "
   ]
  },
  {
   "cell_type": "markdown",
   "id": "502b9c9b-9dcd-40fc-957b-2ba760906313",
   "metadata": {},
   "source": [
    "# Latex Solution\n",
    "\n",
    "$\\textbf{A} = {x|x \\in \\mathbb{Z}, 0 \\leq x \\leq 9}$ \\\n",
    "$\\textbf{B} = { 2,4,6,8}, \\ and \\ \\textbf{C} = { 1,3,5,7,9} \\ and \\ \\textbf{D} = { 3,4,5}$\n",
    "\n",
    "Find a set $\\textbf{X}$ which will satisfy the following conditions:\n",
    "\n",
    "1. $\\textbf{X}$ and $\\textbf{B}$ are disjoint.\n",
    "2. $\\textbf{X} \\subseteq \\textbf{D}$ but $\\textbf{X} \\nsubseteq \\textbf{B}$.\n",
    "3. $\\textbf{X} \\subseteq \\textbf{A}$ but $\\textbf{X} \\not\\subset \\textbf{C}$.\n",
    "\n",
    "$\\textbf{X}$ = {}"
   ]
  },
  {
   "cell_type": "markdown",
   "id": "c5ed87ad-666e-40b7-8d54-5c9e0354e370",
   "metadata": {},
   "source": [
    "3. SET OPERATIONS "
   ]
  },
  {
   "cell_type": "markdown",
   "id": "23dd79a1-5edd-4edd-96ad-d412d790b50d",
   "metadata": {},
   "source": [
    "# Latex Solution\n",
    "\n",
    "U = {1,2,3,4,5} \\\n",
    "A = {1,2,3,4,5} \\\n",
    "B = {4,5,6,7} \\\n",
    "C = {5,6,7,8,9} \\\n",
    "D = {1,3,5,7,9} \\\n",
    "E = {2,4,6,8} \\\n",
    "F = {1,5,6}\n",
    "\n",
    "### Symmetric Difference of C and D\n",
    "$C \\oplus D = C \\Delta D = \\{5,6,7,8,9\\} \\Delta \\{1,3,5,7,9\\} = \\{1,3,6,8\\}$\n",
    "\n",
    "### Set Difference of A and B\n",
    "$A - B = \\{1,2,3,4,5\\} - \\{4,5,6,7\\} = \\{1,2,3\\}$\n",
    "\n",
    "### Set Difference of B and A\n",
    "$B - A = \\{4,5,6,7\\} - \\{1,2,3,4,5\\} = \\{6,7\\}$\n",
    "\n",
    "### Symmetric Difference of E and F\n",
    "$E \\oplus F = E \\Delta F = \\{2,4,6,8\\} \\Delta \\{1,5,6\\} = \\{1,2,4,5,8\\}$"
   ]
  },
  {
   "cell_type": "code",
   "execution_count": 13,
   "id": "7bf44f4b-c06d-454d-ab1d-b19201e8fffa",
   "metadata": {},
   "outputs": [
    {
     "data": {
      "image/png": "[encoded data removed]",
      "text/plain": [
       "<Figure size 640x480 with 1 Axes>"
      ]
     },
     "metadata": {},
     "output_type": "display_data"
    },
    {
     "name": "stdout",
     "output_type": "stream",
     "text": [
      "Number of cars with only Air Conditioners 4\n",
      "Number of cars with only Radio 2\n",
      "Number of cars with only Power Windows 5\n",
      "Number of cars with both a radio and power window but no air conditioner 1\n",
      "Number of cars with both an air condition and radio but no power window 6\n",
      "Number of cars with only one of the options 11\n",
      "Number of cars with at least one of the options 23\n",
      "Number of cars with none of the options 2\n"
     ]
    },
    {
     "data": {
      "image/png": "[encoded data removed]",
      "text/plain": [
       "<Figure size 640x480 with 1 Axes>"
      ]
     },
     "metadata": {},
     "output_type": "display_data"
    },
    {
     "name": "stdout",
     "output_type": "stream",
     "text": [
      "Number of cars with only Air Conditioners 4\n",
      "Number of cars with only Radio 2\n",
      "Number of cars with only Power Windows 5\n",
      "Number of cars with both a radio and power window but no air conditioner 1\n",
      "Number of cars with both an air condition and radio but no power window 6\n",
      "Number of cars with only one of the options 11\n",
      "Number of cars with at least one of the options 23\n",
      "Number of cars with none of the options 2\n"
     ]
    }
   ],
   "source": [
    "from matplotlib import pyplot as plt\n",
    "from matplotlib_venn import venn3\n",
    "\n",
    "# Given Data\n",
    "total_cars = 25\n",
    "A = 15\n",
    "R = 12\n",
    "W = 11\n",
    "A_W = 5\n",
    "A_R = 9\n",
    "R_W = 4\n",
    "A_R_W = 3\n",
    "\n",
    "# Creating the Venn Diagram\n",
    "venn3(subsets=(A, R, A_R, W, A_W, R_W, A_R_W),set_labels=('Air Conditioner', 'Radio', 'Power Windows'))\n",
    "plt.title(\"Popular Car Options\")\n",
    "plt.show()\n",
    "\n",
    "# Calculating number of cars with Air Conditioners only\n",
    "A_only = A - A_W - A_R + A_R_W\n",
    "\n",
    "# Calculating number of cars with Radio only\n",
    "R_only = R - A_R - R_W + A_R_W\n",
    "\n",
    "# Calculating number of cars with Power Windows only\n",
    "W_only = W - A_W - R_W + A_R_W\n",
    "\n",
    "# Calculating number of cars with both a radio and power window but no air conditioner\n",
    "R_W_only = R_W - A_R_W\n",
    "\n",
    "# Calculating number of cars with both an air conditioner and radio but no power window\n",
    "A_R_only = A_R - A_R_W\n",
    "\n",
    "# Calculating number of cars with only one of the options\n",
    "one_of_the_options = A_only + R_only + W_only\n",
    "\n",
    "# Calculating number of cars with at least one of the options\n",
    "at_least_one = A + R + W - A_W - A_R - R_W + A_R_W\n",
    "\n",
    "# Calculating number of cars with none of the options\n",
    "none_of_options = total_cars - at_least_one\n",
    "\n",
    "print(\"Number of cars with only Air Conditioners\", A_only)\n",
    "print(\"Number of cars with only Radio\", R_only)\n",
    "print(\"Number of cars with only Power Windows\", W_only)\n",
    "print(\"Number of cars with both a radio and power window but no air conditioner\", R_W_only)\n",
    "print(\"Number of cars with both an air condition and radio but no power window\", A_R_only)\n",
    "print(\"Number of cars with only one of the options\", one_of_the_options)\n",
    "print(\"Number of cars with at least one of the options\", at_least_one)\n",
    "print(\"Number of cars with none of the options\", none_of_options)\n",
    "from matplotlib import pyplot as plt\n",
    "from matplotlib_venn import venn3\n",
    "\n",
    "# Given Data\n",
    "total_cars = 25\n",
    "A = 15\n",
    "R = 12\n",
    "W = 11\n",
    "A_W = 5\n",
    "A_R = 9\n",
    "R_W = 4\n",
    "A_R_W = 3\n",
    "\n",
    "# Creating the Venn Diagram\n",
    "venn3(subsets=(A, R, A_R, W, A_W, R_W, A_R_W),set_labels=('Air Conditioner', 'Radio', 'Power Windows'))\n",
    "plt.title(\"Popular Car Options\")\n",
    "plt.show()\n",
    "\n",
    "# Calculating number of cars with Air Conditioners only\n",
    "A_only = A - A_W - A_R + A_R_W\n",
    "\n",
    "# Calculating number of cars with Radio only\n",
    "R_only = R - A_R - R_W + A_R_W\n",
    "\n",
    "# Calculating number of cars with Power Windows only\n",
    "W_only = W - A_W - R_W + A_R_W\n",
    "\n",
    "# Calculating number of cars with both a radio and power window but no air conditioner\n",
    "R_W_only = R_W - A_R_W\n",
    "\n",
    "# Calculating number of cars with both an air conditioner and radio but no power window\n",
    "A_R_only = A_R - A_R_W\n",
    "\n",
    "# Calculating number of cars with only one of the options\n",
    "one_of_the_options = A_only + R_only + W_only\n",
    "\n",
    "# Calculating number of cars with at least one of the options\n",
    "at_least_one = A + R + W - A_W - A_R - R_W + A_R_W\n",
    "\n",
    "# Calculating number of cars with none of the options\n",
    "none_of_options = total_cars - at_least_one\n",
    "\n",
    "print(\"Number of cars with only Air Conditioners\", A_only)\n",
    "print(\"Number of cars with only Radio\", R_only)\n",
    "print(\"Number of cars with only Power Windows\", W_only)\n",
    "print(\"Number of cars with both a radio and power window but no air conditioner\", R_W_only)\n",
    "print(\"Number of cars with both an air condition and radio but no power window\", A_R_only)\n",
    "print(\"Number of cars with only one of the options\", one_of_the_options)\n",
    "print(\"Number of cars with at least one of the options\", at_least_one)\n",
    "print(\"Number of cars with none of the options\", none_of_options)"
   ]
  },
  {
   "cell_type": "code",
   "execution_count": null,
   "id": "d4049406-5e5b-4f79-a478-0ef3276b3120",
   "metadata": {},
   "outputs": [],
   "source": []
  }
 ],
 "metadata": {
  "kernelspec": {
   "display_name": "Python 3 (ipykernel)",
   "language": "python",
   "name": "python3"
  },
  "language_info": {
   "codemirror_mode": {
    "name": "ipython",
    "version": 3
   },
   "file_extension": ".py",
   "mimetype": "text/x-python",
   "name": "python",
   "nbconvert_exporter": "python",
   "pygments_lexer": "ipython3",
   "version": "3.11.4"
  }
 },
 "nbformat": 4,
 "nbformat_minor": 5
}
